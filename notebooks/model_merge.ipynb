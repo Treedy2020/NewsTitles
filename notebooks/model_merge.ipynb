{
 "cells": [
  {
   "cell_type": "code",
   "execution_count": 1,
   "id": "364d8718-4145-493a-86cb-5ccce5d8857d",
   "metadata": {
    "execution": {
     "iopub.execute_input": "2023-04-30T04:54:12.430650Z",
     "iopub.status.busy": "2023-04-30T04:54:12.430163Z",
     "iopub.status.idle": "2023-04-30T04:54:12.435695Z",
     "shell.execute_reply": "2023-04-30T04:54:12.434979Z",
     "shell.execute_reply.started": "2023-04-30T04:54:12.430613Z"
    },
    "scrolled": true,
    "tags": []
   },
   "outputs": [
    {
     "name": "stdout",
     "output_type": "stream",
     "text": [
      "/home/aistudio/work/NewsTitles\r\n"
     ]
    }
   ],
   "source": [
    "cd .."
   ]
  },
  {
   "cell_type": "code",
   "execution_count": 2,
   "id": "0a5bfdab-234e-4599-a2f9-cdbe22cbf75f",
   "metadata": {
    "execution": {
     "iopub.execute_input": "2023-04-30T04:54:12.438436Z",
     "iopub.status.busy": "2023-04-30T04:54:12.437999Z",
     "iopub.status.idle": "2023-04-30T04:54:18.222127Z",
     "shell.execute_reply": "2023-04-30T04:54:18.221229Z",
     "shell.execute_reply.started": "2023-04-30T04:54:12.438406Z"
    },
    "scrolled": true,
    "tags": []
   },
   "outputs": [
    {
     "name": "stderr",
     "output_type": "stream",
     "text": [
      "/opt/conda/envs/python35-paddle120-env/lib/python3.9/site-packages/scipy/__init__.py:138: UserWarning: A NumPy version >=1.16.5 and <1.23.0 is required for this version of SciPy (detected version 1.23.5)\r\n",
      "  warnings.warn(f\"A NumPy version >={np_minversion} and <{np_maxversion} is required for this version of \"\r\n"
     ]
    }
   ],
   "source": [
    "import os\n",
    "import time\n",
    "import paddle\n",
    "import paddle.nn as nn\n",
    "import numpy as np\n",
    "import paddle.nn.functional as F\n",
    "from paddle.io import BatchSampler, Dataset, DataLoader\n",
    "from paddlenlp.transformers import AutoTokenizer\n",
    "from utils.get_data import (train_titles, val_titles)\n",
    "from utils.constant import *\n",
    "from utils.dataset import TextDataset, MergeDataset\n",
    "from tqdm import tqdm\n",
    "import pickle\n"
   ]
  },
  {
   "cell_type": "code",
   "execution_count": 3,
   "id": "a85123f4-833e-4572-bcbc-b0d2e62c2af9",
   "metadata": {
    "execution": {
     "iopub.execute_input": "2023-04-30T04:54:18.224853Z",
     "iopub.status.busy": "2023-04-30T04:54:18.223590Z",
     "iopub.status.idle": "2023-04-30T04:54:18.292811Z",
     "shell.execute_reply": "2023-04-30T04:54:18.291843Z",
     "shell.execute_reply.started": "2023-04-30T04:54:18.224814Z"
    },
    "scrolled": true,
    "tags": []
   },
   "outputs": [],
   "source": [
    "\n",
    "class MergeDataset(Dataset):\n",
    "    def __init__(self, data, model_names, max_seq_len=MAX_SEQ_LEN):\n",
    "        super(MergeDataset, self).__init__()\n",
    "        self.data = data\n",
    "        self.simple_names = [x.split('/')[-1] for x in model_names]\n",
    "        self.models = {name: paddle.jit.load(os.path.join('./models', name, name)) for name in self.simple_names}\n",
    "        self.tokenizer = {name.split('/')[-1]: AutoTokenizer.from_pretrained(name) for name in model_names}\n",
    "        self.max_seq_len = MAX_SEQ_LEN\n",
    "\n",
    "    def __getitem__(self, index):\n",
    "        text, label = self.data[index]\n",
    "        merge_tensor = []\n",
    "        for name, model in self.models.items():\n",
    "            encode_text = self.tokenizer[name](text, max_seq_len=self.max_seq_len, pad_to_max_seq_len=True)\n",
    "            input_ids, token_type_ids = paddle.to_tensor(encode_text['input_ids'], dtype='int64'), paddle.to_tensor(encode_text['token_type_ids'], dtype='int64')\n",
    "            input_ids, token_type_ids = paddle.reshape(input_ids, (1, self.max_seq_len)), paddle.reshape(token_type_ids, (1, self.max_seq_len))\n",
    "            logits = self.models[name](input_ids, token_type_ids)\n",
    "            merge_tensor.append(paddle.flatten(logits))\n",
    "\n",
    "        return tuple([paddle.concat(merge_tensor), np.array([label], dtype='int64')])\n",
    "    \n",
    "    def __len__(self):\n",
    "        return len(self.data)\n"
   ]
  },
  {
   "cell_type": "code",
   "execution_count": 4,
   "id": "7335dd84-673e-4b9f-8864-554a823ca958",
   "metadata": {
    "execution": {
     "iopub.execute_input": "2023-04-30T04:54:18.295019Z",
     "iopub.status.busy": "2023-04-30T04:54:18.294276Z",
     "iopub.status.idle": "2023-04-30T04:54:18.298700Z",
     "shell.execute_reply": "2023-04-30T04:54:18.297892Z",
     "shell.execute_reply.started": "2023-04-30T04:54:18.294978Z"
    },
    "scrolled": true,
    "tags": []
   },
   "outputs": [],
   "source": [
    "model_list = [\n",
    "                    'hfl/rbt6',\n",
    "                    'ernie-3.0-mini-zh',\n",
    "                    'tinybert-4l-312d-zh',\n",
    "                    'hfl/rbt3',\n",
    "                ]"
   ]
  },
  {
   "cell_type": "code",
   "execution_count": 5,
   "id": "cc5869fa-2707-4c67-82a9-eb2356e4d428",
   "metadata": {
    "execution": {
     "iopub.execute_input": "2023-04-30T04:54:18.300492Z",
     "iopub.status.busy": "2023-04-30T04:54:18.300097Z",
     "iopub.status.idle": "2023-04-30T04:54:18.310568Z",
     "shell.execute_reply": "2023-04-30T04:54:18.309851Z",
     "shell.execute_reply.started": "2023-04-30T04:54:18.300460Z"
    },
    "scrolled": true,
    "tags": []
   },
   "outputs": [],
   "source": [
    "def get_tensor(model_name, train_titles, val_titles):\n",
    "    print(f'Processing {model_name}...')\n",
    "    train, val = [], []\n",
    "    simple_name = model_name.split('/')[-1]\n",
    "    tokenizer = AutoTokenizer.from_pretrained(model_name)\n",
    "    \n",
    "    train_dataset, val_dataset = TextDataset(train_titles, tokenizer), TextDataset(val_titles, tokenizer)\n",
    "    \n",
    "    train_batch_sampler = paddle.io.BatchSampler(train_dataset,\n",
    "                                        shuffle=False,\n",
    "                                        batch_size=BATCH_SIZE,\n",
    "                                        )\n",
    "\n",
    "    val_batch_sampler = paddle.io.BatchSampler(val_dataset,\n",
    "                                            shuffle=False,\n",
    "                                            batch_size=BATCH_SIZE,\n",
    "                                            )\n",
    "\n",
    "    model = paddle.jit.load(os.path.join('./models', simple_name, simple_name))\n",
    "\n",
    "    # 定义数据加载器\n",
    "    train_data_loader = paddle.io.DataLoader(dataset=train_dataset,\n",
    "                                            batch_sampler=train_batch_sampler,\n",
    "                                            return_list=True,\n",
    "                                            num_workers=4,\n",
    "                                            )\n",
    "    val_data_loader = paddle.io.DataLoader(dataset=val_dataset,\n",
    "                                            batch_sampler=val_batch_sampler,\n",
    "                                            return_list=True,\n",
    "                                            num_workers=4,\n",
    "                                            )\n",
    "    start_t = time.time()\n",
    "    print('Processing train data:')\n",
    "    for ind, item in enumerate(train_data_loader):\n",
    "        if ind and (not ind%(len(train_data_loader)//10)):\n",
    "            print(f'\\t{ind}/{len(train_data_loader)} has finished, average time {(time.time()-start_t)/(ind + 1)}')\n",
    "        input_ids, token_type_ids, labels = item\n",
    "        logits = model(input_ids, token_type_ids)\n",
    "        train.append((logits.numpy().tolist(), labels.numpy().tolist()))\n",
    "        # if ind == 0:\n",
    "        #     break\n",
    "    print(f'Finished {len(train_data_loader)} items in {time.time() - start_t} seconds.' )\n",
    "\n",
    "    print('Processing tval data')\n",
    "    start_t = time.time()\n",
    "    for ind, item in enumerate(val_data_loader):\n",
    "        if ind and (not ind%(len(val_data_loader)//10)):\n",
    "            print(f'\\t{ind}/{len(val_data_loader)} has finished, average time {(time.time()-start_t)/(ind + 1)}')\n",
    "        input_ids, token_type_ids, labels = item\n",
    "        logits = model(input_ids, token_type_ids)\n",
    "        val.append((logits.numpy().tolist(), labels.numpy().tolist()))\n",
    "        # if ind == 0:\n",
    "        #     break\n",
    "    print(f'Finished {len(val_data_loader)} items in {time.time() - start_t} seconds.')\n",
    "\n",
    "    with open(f\"./np_data/{simple_name + '_train.pkl'}\", 'wb') as pkl:\n",
    "        pickle.dump(train, pkl)\n",
    "    with open(f\"./np_data/{simple_name + '_val.pkl'}\", 'wb') as pkl:\n",
    "        pickle.dump(val, pkl)"
   ]
  },
  {
   "cell_type": "code",
   "execution_count": 6,
   "id": "949989e6-b9b8-4b13-98f3-4e22803a2363",
   "metadata": {
    "execution": {
     "iopub.execute_input": "2023-04-30T04:54:18.312128Z",
     "iopub.status.busy": "2023-04-30T04:54:18.311546Z",
     "iopub.status.idle": "2023-04-30T04:54:18.315817Z",
     "shell.execute_reply": "2023-04-30T04:54:18.315199Z",
     "shell.execute_reply.started": "2023-04-30T04:54:18.312094Z"
    },
    "scrolled": true,
    "tags": []
   },
   "outputs": [],
   "source": [
    "# for model_name in model_list:\n",
    "#     get_tensor(model_name, train_titles, val_titles)"
   ]
  },
  {
   "cell_type": "markdown",
   "id": "5eb1dde9-b4d7-4de7-bade-4cfba35f69b1",
   "metadata": {},
   "source": [
    "## 数据读取"
   ]
  },
  {
   "cell_type": "code",
   "execution_count": 7,
   "id": "7bcb411a-1bd4-4e3c-a478-33a1c65c6bfa",
   "metadata": {
    "execution": {
     "iopub.execute_input": "2023-04-30T04:54:18.317278Z",
     "iopub.status.busy": "2023-04-30T04:54:18.316712Z",
     "iopub.status.idle": "2023-04-30T04:54:32.369292Z",
     "shell.execute_reply": "2023-04-30T04:54:32.368158Z",
     "shell.execute_reply.started": "2023-04-30T04:54:18.317245Z"
    },
    "scrolled": true,
    "tags": []
   },
   "outputs": [],
   "source": [
    "train_pkl, val_pkl = [], []\n",
    "for model_name in model_list:\n",
    "    simple_name = model_name.split('/')[-1]\n",
    "    path = os.path.join('./np_data', simple_name)\n",
    "    with open(path + '_train.pkl', 'rb') as f:    \n",
    "        train_pkl.append(pickle.load(f))\n",
    "    with open(path + '_val.pkl', 'rb') as f:\n",
    "        val_pkl.append(pickle.load(f))"
   ]
  },
  {
   "cell_type": "code",
   "execution_count": 8,
   "id": "9d5fb53e-396f-402e-a9b6-7aa3311ce0e6",
   "metadata": {
    "execution": {
     "iopub.execute_input": "2023-04-30T04:54:32.371121Z",
     "iopub.status.busy": "2023-04-30T04:54:32.370612Z",
     "iopub.status.idle": "2023-04-30T04:54:32.451108Z",
     "shell.execute_reply": "2023-04-30T04:54:32.450038Z",
     "shell.execute_reply.started": "2023-04-30T04:54:32.371092Z"
    },
    "scrolled": true,
    "tags": []
   },
   "outputs": [],
   "source": [
    "num_train_batch, num_val_batch, num_models = len(train_pkl[0]), len(val_pkl[0]), len(model_list)\n",
    "for i in range(num_train_batch):\n",
    "    for j in range(num_models - 1):\n",
    "        assert train_pkl[j][i][1] == train_pkl[j + 1][i][1]\n",
    "\n",
    "for i in range(num_val_batch):\n",
    "    for j in range(num_models - 1):\n",
    "        assert train_pkl[j][i][1] == train_pkl[j + 1][i][1]"
   ]
  },
  {
   "cell_type": "code",
   "execution_count": 9,
   "id": "26a2af4e-190d-41b2-9aaf-0141000d52f0",
   "metadata": {
    "execution": {
     "iopub.execute_input": "2023-04-30T04:54:32.452823Z",
     "iopub.status.busy": "2023-04-30T04:54:32.452394Z",
     "iopub.status.idle": "2023-04-30T04:54:32.459544Z",
     "shell.execute_reply": "2023-04-30T04:54:32.458793Z",
     "shell.execute_reply.started": "2023-04-30T04:54:32.452796Z"
    },
    "scrolled": true,
    "tags": []
   },
   "outputs": [
    {
     "name": "stdout",
     "output_type": "stream",
     "text": [
      "662\r\n",
      "74\r\n"
     ]
    }
   ],
   "source": [
    "print(len(train_pkl[0]))\n",
    "print(len(val_pkl[0]))"
   ]
  },
  {
   "cell_type": "code",
   "execution_count": 10,
   "id": "78ad8432-ffae-459b-8cb8-14dbb743463d",
   "metadata": {
    "execution": {
     "iopub.execute_input": "2023-04-30T04:54:32.460946Z",
     "iopub.status.busy": "2023-04-30T04:54:32.460640Z",
     "iopub.status.idle": "2023-04-30T04:54:38.432767Z",
     "shell.execute_reply": "2023-04-30T04:54:38.431939Z",
     "shell.execute_reply.started": "2023-04-30T04:54:32.460924Z"
    },
    "scrolled": true,
    "tags": []
   },
   "outputs": [
    {
     "name": "stderr",
     "output_type": "stream",
     "text": [
      "W0430 12:54:35.151608   693 gpu_resources.cc:61] Please NOTE: device: 0, GPU Compute Capability: 7.0, Driver API Version: 11.2, Runtime API Version: 11.2\r\n",
      "W0430 12:54:35.156440   693 gpu_resources.cc:91] device: 0, cuDNN Version: 8.2.\r\n"
     ]
    }
   ],
   "source": [
    "num_models, num_train_batch, num_val_batch = len(model_list), len(train_pkl[0]), len(val_pkl[0])\n",
    "\n",
    "train_tensors, val_tensors = [], []\n",
    "\n",
    "for i in range(num_train_batch):\n",
    "    concat_train_tensors = [paddle.to_tensor(train_pkl[j][i][0], dtype='float32') for j in range(num_models)]\n",
    "    train_tensors.append((paddle.concat(concat_train_tensors, axis=1), paddle.to_tensor(train_pkl[0][i][1], dtype='int64')) )\n",
    "\n",
    "for i in range(num_val_batch):\n",
    "    concat_val_tensors = [paddle.to_tensor(val_pkl[j][i][0], dtype='float32') for j in range(num_models)]\n",
    "    val_tensors.append((paddle.concat(concat_val_tensors, axis=1), paddle.to_tensor(val_pkl[0][i][1], dtype='int64')))"
   ]
  },
  {
   "cell_type": "markdown",
   "id": "d6678569-0335-4d4f-a570-31a854a452ef",
   "metadata": {},
   "source": [
    "## 检验训练张量和验证张量"
   ]
  },
  {
   "cell_type": "code",
   "execution_count": 11,
   "id": "35021c46-6845-48ba-905b-89cd5cc8dcb9",
   "metadata": {
    "execution": {
     "iopub.execute_input": "2023-04-30T04:54:38.436547Z",
     "iopub.status.busy": "2023-04-30T04:54:38.435687Z",
     "iopub.status.idle": "2023-04-30T04:54:38.507690Z",
     "shell.execute_reply": "2023-04-30T04:54:38.507009Z",
     "shell.execute_reply.started": "2023-04-30T04:54:38.436519Z"
    },
    "scrolled": true,
    "tags": []
   },
   "outputs": [
    {
     "name": "stdout",
     "output_type": "stream",
     "text": [
      "案例1\r\n",
      "标签: [3, 7, 10, 6, 0, 7, 0, 13, 6, 2, 11, 6, 3, 7, 6, 6, 6, 4, 3, 10]\r\n",
      "模型预测:\r\n",
      "hfl/rbt6 [6, 7, 10, 6, 0, 7, 0, 13, 6, 2, 11, 6, 3, 7, 12, 6, 6, 4, 3, 10]\r\n",
      "ernie-3.0-mini-zh [9, 7, 10, 6, 0, 7, 0, 13, 6, 2, 11, 6, 3, 7, 12, 6, 6, 4, 3, 10]\r\n",
      "tinybert-4l-312d-zh [9, 7, 10, 6, 0, 7, 0, 13, 6, 2, 8, 6, 3, 7, 6, 6, 6, 4, 3, 10]\r\n",
      "hfl/rbt3 [6, 7, 10, 6, 0, 7, 0, 13, 6, 2, 11, 6, 3, 7, 6, 6, 6, 4, 3, 10]\r\n",
      "\r\n",
      "案例2\r\n",
      "标签: [9, 8, 4, 7, 13, 10, 10, 6, 0, 1, 9, 4, 3, 3, 9, 3, 3, 10, 5, 9]\r\n",
      "模型预测:\r\n",
      "hfl/rbt6 [9, 8, 4, 7, 13, 10, 10, 6, 0, 1, 9, 4, 3, 3, 9, 3, 3, 10, 5, 9]\r\n",
      "ernie-3.0-mini-zh [9, 8, 4, 7, 13, 10, 10, 6, 0, 1, 9, 4, 3, 3, 9, 3, 3, 10, 5, 9]\r\n",
      "tinybert-4l-312d-zh [9, 8, 4, 7, 13, 10, 10, 6, 0, 10, 9, 4, 3, 3, 9, 3, 3, 10, 5, 9]\r\n",
      "hfl/rbt3 [9, 8, 4, 7, 13, 10, 10, 6, 0, 1, 9, 4, 3, 3, 9, 3, 3, 10, 5, 9]\r\n",
      "\r\n",
      "案例3\r\n",
      "标签: [6, 7, 3, 6, 7, 10, 3, 3, 13, 6, 10, 10, 7, 13, 13, 12, 6, 10, 2, 5]\r\n",
      "模型预测:\r\n",
      "hfl/rbt6 [6, 7, 9, 6, 7, 10, 3, 3, 13, 6, 10, 10, 7, 13, 13, 12, 6, 10, 2, 5]\r\n",
      "ernie-3.0-mini-zh [6, 7, 9, 6, 7, 10, 3, 3, 13, 6, 10, 10, 7, 13, 13, 12, 6, 10, 2, 5]\r\n",
      "tinybert-4l-312d-zh [6, 7, 9, 6, 7, 10, 3, 3, 13, 6, 10, 10, 7, 13, 13, 12, 6, 10, 2, 5]\r\n",
      "hfl/rbt3 [6, 7, 9, 6, 7, 10, 3, 3, 13, 6, 10, 10, 7, 13, 13, 12, 6, 10, 2, 5]\r\n",
      "\r\n",
      "案例4\r\n",
      "标签: [3, 9, 7, 3, 6, 13, 4, 3, 7, 5, 10, 3, 2, 3, 7, 5, 10, 7, 2, 6]\r\n",
      "模型预测:\r\n",
      "hfl/rbt6 [3, 9, 7, 3, 6, 13, 9, 3, 7, 5, 10, 3, 2, 3, 7, 5, 10, 7, 2, 6]\r\n",
      "ernie-3.0-mini-zh [3, 9, 7, 3, 6, 13, 6, 3, 7, 5, 10, 3, 2, 3, 7, 5, 10, 7, 2, 6]\r\n",
      "tinybert-4l-312d-zh [3, 9, 7, 3, 6, 13, 6, 3, 7, 5, 10, 3, 2, 3, 7, 5, 10, 7, 2, 6]\r\n",
      "hfl/rbt3 [3, 9, 7, 3, 6, 13, 6, 3, 7, 5, 10, 3, 2, 3, 7, 5, 10, 7, 2, 6]\r\n",
      "\r\n",
      "案例5\r\n",
      "标签: [10, 13, 6, 3, 7, 4, 9, 13, 4, 5, 6, 9, 6, 5, 9, 10, 10, 3, 3, 10]\r\n",
      "模型预测:\r\n",
      "hfl/rbt6 [1, 13, 6, 3, 7, 4, 9, 13, 4, 5, 6, 9, 6, 5, 9, 10, 10, 6, 3, 10]\r\n",
      "ernie-3.0-mini-zh [1, 13, 6, 3, 7, 4, 9, 13, 4, 5, 6, 9, 6, 5, 9, 10, 10, 3, 3, 10]\r\n",
      "tinybert-4l-312d-zh [10, 13, 6, 3, 7, 4, 9, 13, 4, 5, 6, 9, 6, 5, 9, 10, 10, 3, 3, 10]\r\n",
      "hfl/rbt3 [1, 13, 6, 3, 7, 4, 9, 13, 4, 5, 6, 9, 6, 5, 9, 10, 10, 3, 3, 10]\r\n",
      "\r\n"
     ]
    }
   ],
   "source": [
    "for enu in range(5):\n",
    "    print(f'案例{enu + 1}')\n",
    "    print('标签:', paddle.flatten(train_tensors[2*enu][1]).numpy().tolist()[:20])\n",
    "    print('模型预测:')\n",
    "    for i in range(num_models):\n",
    "        print(f'{model_list[i]}',  paddle.argmax(train_tensors[2*enu][0][:, 14*i:14*(i + 1)], axis=1).numpy().tolist()[:20])\n",
    "    print()\n"
   ]
  },
  {
   "cell_type": "code",
   "execution_count": 12,
   "id": "50cd0540-fa1b-4910-9dfb-7fe2fd24a819",
   "metadata": {
    "execution": {
     "iopub.execute_input": "2023-04-30T04:54:38.509144Z",
     "iopub.status.busy": "2023-04-30T04:54:38.508652Z",
     "iopub.status.idle": "2023-04-30T04:54:38.583974Z",
     "shell.execute_reply": "2023-04-30T04:54:38.583304Z",
     "shell.execute_reply.started": "2023-04-30T04:54:38.509118Z"
    },
    "scrolled": true,
    "tags": []
   },
   "outputs": [
    {
     "name": "stdout",
     "output_type": "stream",
     "text": [
      "案例1\r\n",
      "标签: [6, 10, 13, 9, 7, 6, 10, 10, 2, 10, 13, 13, 13, 10, 6, 10, 3, 5, 11, 6]\r\n",
      "模型预测:\r\n",
      "\thfl/rbt6: [6, 10, 13, 9, 7, 6, 10, 10, 2, 1, 13, 13, 13, 10, 6, 10, 3, 5, 11, 6]\r\n",
      "\ternie-3.0-mini-zh: [6, 10, 13, 9, 7, 6, 10, 10, 2, 10, 13, 13, 13, 10, 6, 10, 3, 5, 11, 6]\r\n",
      "\ttinybert-4l-312d-zh: [6, 10, 13, 9, 7, 6, 10, 10, 2, 10, 13, 13, 13, 10, 6, 10, 3, 5, 8, 6]\r\n",
      "\thfl/rbt3: [6, 10, 13, 9, 7, 6, 10, 3, 2, 10, 13, 13, 13, 10, 6, 10, 3, 5, 11, 6]\r\n",
      "\r\n",
      "案例2\r\n",
      "标签: [7, 3, 10, 3, 6, 3, 13, 12, 10, 3, 6, 13, 10, 4, 6, 3, 3, 3, 10, 4]\r\n",
      "模型预测:\r\n",
      "\thfl/rbt6: [9, 3, 10, 3, 6, 3, 13, 12, 10, 3, 6, 13, 10, 8, 6, 3, 3, 3, 10, 4]\r\n",
      "\ternie-3.0-mini-zh: [9, 3, 10, 3, 6, 3, 13, 12, 10, 3, 6, 13, 10, 4, 6, 3, 3, 3, 10, 4]\r\n",
      "\ttinybert-4l-312d-zh: [9, 3, 10, 3, 6, 3, 13, 12, 10, 3, 6, 13, 10, 8, 6, 3, 3, 3, 10, 4]\r\n",
      "\thfl/rbt3: [9, 3, 10, 3, 6, 3, 13, 12, 10, 3, 6, 13, 10, 4, 6, 3, 3, 3, 10, 4]\r\n",
      "\r\n",
      "案例3\r\n",
      "标签: [6, 13, 6, 13, 3, 6, 7, 12, 9, 6, 7, 6, 13, 0, 10, 7, 13, 6, 6, 10]\r\n",
      "模型预测:\r\n",
      "\thfl/rbt6: [6, 13, 6, 4, 3, 6, 7, 12, 9, 6, 7, 6, 13, 0, 10, 7, 13, 6, 6, 10]\r\n",
      "\ternie-3.0-mini-zh: [6, 13, 6, 13, 3, 6, 7, 12, 9, 6, 7, 6, 13, 0, 10, 7, 13, 6, 6, 10]\r\n",
      "\ttinybert-4l-312d-zh: [6, 13, 6, 13, 3, 6, 7, 12, 9, 6, 7, 6, 13, 0, 10, 7, 13, 6, 6, 10]\r\n",
      "\thfl/rbt3: [6, 13, 6, 13, 3, 6, 7, 12, 9, 6, 7, 6, 13, 0, 10, 7, 13, 6, 6, 10]\r\n",
      "\r\n",
      "案例4\r\n",
      "标签: [5, 7, 6, 7, 4, 2, 3, 10, 6, 7, 6, 10, 6, 13, 2, 3, 9, 12, 13, 10]\r\n",
      "模型预测:\r\n",
      "\thfl/rbt6: [5, 7, 6, 7, 4, 2, 3, 10, 6, 7, 6, 10, 6, 13, 2, 3, 9, 12, 13, 10]\r\n",
      "\ternie-3.0-mini-zh: [5, 7, 6, 7, 4, 2, 3, 10, 6, 7, 6, 10, 2, 13, 2, 3, 9, 12, 9, 10]\r\n",
      "\ttinybert-4l-312d-zh: [5, 7, 6, 7, 4, 2, 3, 3, 6, 7, 6, 10, 6, 13, 2, 3, 9, 12, 13, 10]\r\n",
      "\thfl/rbt3: [5, 7, 6, 7, 4, 2, 3, 10, 6, 7, 6, 10, 6, 13, 2, 3, 9, 12, 13, 10]\r\n",
      "\r\n",
      "案例5\r\n",
      "标签: [10, 6, 4, 0, 4, 6, 6, 0, 13, 3, 12, 6, 3, 9, 7, 6, 10, 9, 6, 6]\r\n",
      "模型预测:\r\n",
      "\thfl/rbt6: [10, 6, 4, 0, 4, 6, 6, 0, 13, 3, 12, 6, 3, 9, 7, 6, 10, 9, 6, 6]\r\n",
      "\ternie-3.0-mini-zh: [10, 12, 4, 0, 4, 6, 6, 0, 13, 3, 12, 6, 3, 9, 7, 6, 10, 9, 6, 6]\r\n",
      "\ttinybert-4l-312d-zh: [10, 12, 4, 0, 4, 6, 6, 0, 13, 3, 12, 6, 3, 9, 7, 6, 10, 9, 6, 6]\r\n",
      "\thfl/rbt3: [10, 12, 4, 0, 4, 6, 6, 0, 13, 6, 12, 6, 3, 9, 7, 6, 10, 9, 6, 6]\r\n",
      "\r\n"
     ]
    }
   ],
   "source": [
    "for enu in range(5):\n",
    "    print(f'案例{enu + 1}')\n",
    "    print('标签:', paddle.flatten(val_tensors[2*enu][1]).numpy().tolist()[:20])\n",
    "    print('模型预测:')\n",
    "    for i in range(num_models):\n",
    "        print(f'\\t{model_list[i]}:', paddle.argmax(val_tensors[2*enu][0][:, 14*i:14*(i + 1)], axis=1).numpy().tolist()[:20])\n",
    "    print()\n"
   ]
  },
  {
   "cell_type": "markdown",
   "id": "d5c6a9fe-c12a-431b-a822-2a7bd14bb6db",
   "metadata": {},
   "source": [
    "## 模型定义"
   ]
  },
  {
   "cell_type": "code",
   "execution_count": 13,
   "id": "925a0976-e3ab-4696-a56f-ffe7b603d94d",
   "metadata": {
    "execution": {
     "iopub.execute_input": "2023-04-30T04:54:38.585521Z",
     "iopub.status.busy": "2023-04-30T04:54:38.584980Z",
     "iopub.status.idle": "2023-04-30T04:54:38.591856Z",
     "shell.execute_reply": "2023-04-30T04:54:38.591198Z",
     "shell.execute_reply.started": "2023-04-30T04:54:38.585494Z"
    },
    "scrolled": true,
    "tags": []
   },
   "outputs": [],
   "source": [
    "class LinerMergedModel(nn.Layer):\n",
    "    def __init__(self, num_models, num_classes=14):\n",
    "        super(LinerMergedModel, self).__init__()\n",
    "        self.linear_1 = nn.Linear(num_models*num_classes, num_classes, bias_attr=False)\n",
    "        \n",
    "    def forward(self, x):\n",
    "        return self.linear_1(x)\n",
    "\n",
    "class  ParameterMergedModel(nn.Layer):\n",
    "    def __init__(self, num_models, num_classes=14):\n",
    "        super(ParameterMergedModel, self).__init__()\n",
    "        self.weights = paddle.create_parameter(shape=[num_models],\n",
    "                                              dtype='float64',\n",
    "                                              default_initializer=nn.initializer.Constant(1/num_models)\n",
    "                                                )\n",
    "        self.weights.stop_gradient = False\n",
    "        self.num_models = num_models\n",
    "        self.num_classes = num_classes\n",
    "\n",
    "    def forward(self, x):\n",
    "        probs = F.softmax(self.weights)\n",
    "        res = probs[0]*x[:, :self.num_classes]\n",
    "        for model_ind in range(1, self.num_models):\n",
    "            res += probs[model_ind]*x[:, self.num_classes*model_ind: self.num_classes*(model_ind + 1)]\n",
    "\n",
    "        return res\n"
   ]
  },
  {
   "cell_type": "code",
   "execution_count": 14,
   "id": "d48fb7ce-52e3-4d1e-a290-90b0be74fa65",
   "metadata": {
    "execution": {
     "iopub.execute_input": "2023-04-30T04:54:38.593279Z",
     "iopub.status.busy": "2023-04-30T04:54:38.592758Z",
     "iopub.status.idle": "2023-04-30T04:54:38.598296Z",
     "shell.execute_reply": "2023-04-30T04:54:38.597676Z",
     "shell.execute_reply.started": "2023-04-30T04:54:38.593248Z"
    },
    "scrolled": true,
    "tags": []
   },
   "outputs": [],
   "source": [
    "def evaluate(model, criterion, metric, data_loader):\n",
    "    \"\"\"\n",
    "    Given a dataset, it evals model and computes the metric.\n",
    "\n",
    "    Args:\n",
    "        model(obj:`paddle.nn.Layer`): A model to classify texts.\n",
    "        data_loader(obj:`paddle.io.DataLoader`): The dataset loader which generates batches.\n",
    "        criterion(obj:`paddle.nn.Layer`): It can compute the loss.\n",
    "        metric(obj:`paddle.metric.Metric`): The evaluation metric.\n",
    "    \"\"\"\n",
    "    model.eval()\n",
    "    metric.reset()\n",
    "    losses = []\n",
    "    for input_x, input_label  in tqdm(data_loader):\n",
    "        logits = model(input_x)\n",
    "        loss = criterion(logits, input_label)\n",
    "        losses.append(loss.numpy())\n",
    "        correct = metric.compute(logits, input_label)\n",
    "        metric.update(correct)\n",
    "    accu = metric.accumulate()\n",
    "    print(\"eval loss: %.5f, accu: %.7f\" % (np.mean(losses), accu))\n",
    "    model.train()\n",
    "    metric.reset()\n",
    "    return accu"
   ]
  },
  {
   "cell_type": "code",
   "execution_count": 15,
   "id": "6f43baab-c8aa-4b9e-bdce-03705f214cba",
   "metadata": {
    "execution": {
     "iopub.execute_input": "2023-04-30T04:54:38.599587Z",
     "iopub.status.busy": "2023-04-30T04:54:38.599139Z",
     "iopub.status.idle": "2023-04-30T04:54:38.607802Z",
     "shell.execute_reply": "2023-04-30T04:54:38.607174Z",
     "shell.execute_reply.started": "2023-04-30T04:54:38.599564Z"
    },
    "scrolled": true,
    "tags": []
   },
   "outputs": [],
   "source": [
    "def main_train(merge_type:str):\n",
    "    if merge_type == 'ParameterMergedModel':\n",
    "        model = paddle.jit.to_static(ParameterMergedModel(4))\n",
    "    else:\n",
    "        model = paddle.jit.to_static(LinerMergedModel(4))\n",
    "\n",
    "    # 定义优化器、损失函数和Acc计算器\n",
    "    optimizer = paddle.optimizer.Adam(learning_rate=5e-3,\n",
    "                                parameters=model.parameters(),\n",
    "                                )\n",
    "    criterion = paddle.nn.loss.CrossEntropyLoss()\n",
    "    metric = paddle.metric.Accuracy()\n",
    "\n",
    "    # 调整至训练模式\n",
    "    model.train() \n",
    "    best_acc = 0.00\n",
    "    print(f'The training process of {merge_type} model is begining!')\n",
    "    for epoch in range(5):\n",
    "        print(f\"epoch: {epoch + 1}, {time.ctime()}\")\n",
    "        start_t = time.time()\n",
    "        metric.reset()\n",
    "        for ind, item in enumerate(train_tensors):\n",
    "            if ind and (not ind%300):\n",
    "                accu = evaluate(model, criterion, metric, val_tensors)\n",
    "                if accu > best_acc:\n",
    "                    best_acc = accu\n",
    "                    print('\\t Best Acc: {:.6f}'.format(accu))\n",
    "            input_x, input_label = item\n",
    "            logits = model(input_x)\n",
    "            loss = criterion(logits, input_label)\n",
    "            probs = F.softmax(logits, axis=1)\n",
    "\n",
    "            correct = metric.compute(probs, input_label)\n",
    "            batch_acc = metric.update(correct)\n",
    "            acc = metric.accumulate()\n",
    "            \n",
    "            loss.backward()\n",
    "            ave_t = (time.time() - start_t)/(ind + 1)\n",
    "            extra_h = ave_t*(len(train_tensors) - ind + 1)/3600\n",
    "            if ind and (not ind%200):\n",
    "                print(f'\\t step:{ind}/{len(train_tensors)},', 'average time: {:.4f},'.format(ave_t), 'loss: {:.6f}'.format(loss.numpy()[0]), 'Batch Acc:{:.9f}, Acc:{:.9f}'.format(batch_acc, acc))\n",
    "\n",
    "            optimizer.step()\n",
    "            optimizer.clear_grad()\n",
    "    print('Last Eval:')\n",
    "    evaluate(model, criterion, metric, val_tensors)\n",
    "    print(f'The training of {merge_type} has Finished!\\n')\n",
    "    return model\n",
    "\n"
   ]
  },
  {
   "cell_type": "code",
   "execution_count": 16,
   "id": "e4bafc86-5a8e-4439-be00-626f53384f62",
   "metadata": {
    "execution": {
     "iopub.execute_input": "2023-04-30T04:54:38.609063Z",
     "iopub.status.busy": "2023-04-30T04:54:38.608755Z",
     "iopub.status.idle": "2023-04-30T04:54:45.338726Z",
     "shell.execute_reply": "2023-04-30T04:54:45.337998Z",
     "shell.execute_reply.started": "2023-04-30T04:54:38.609042Z"
    },
    "scrolled": true,
    "tags": []
   },
   "outputs": [
    {
     "name": "stdout",
     "output_type": "stream",
     "text": [
      "The training process of liner model is begining!\r\n",
      "epoch: 1, Sun Apr 30 12:54:38 2023\r\n",
      "\t step:200/662, average time: 0.0065, loss: 0.168074 Batch Acc:0.956054688, Acc:0.886495258\r\n"
     ]
    },
    {
     "name": "stderr",
     "output_type": "stream",
     "text": [
      "100%|██████████| 74/74 [00:00<00:00, 835.15it/s]\r\n"
     ]
    },
    {
     "name": "stdout",
     "output_type": "stream",
     "text": [
      "eval loss: 0.18679, accu: 0.9424702\r\n",
      "\t Best Acc: 0.942470\r\n",
      "\t step:400/662, average time: 0.0042, loss: 0.175861 Batch Acc:0.945312500, Acc:0.949663521\r\n"
     ]
    },
    {
     "name": "stderr",
     "output_type": "stream",
     "text": [
      "100%|██████████| 74/74 [00:00<00:00, 983.55it/s]\r\n"
     ]
    },
    {
     "name": "stdout",
     "output_type": "stream",
     "text": [
      "eval loss: 0.16993, accu: 0.9470285\r\n",
      "\t Best Acc: 0.947028\r\n",
      "\t step:600/662, average time: 0.0034, loss: 0.157342 Batch Acc:0.951171875, Acc:0.951171875\r\n",
      "epoch: 2, Sun Apr 30 12:54:40 2023\r\n",
      "\t step:200/662, average time: 0.0014, loss: 0.131859 Batch Acc:0.960937500, Acc:0.954757463\r\n"
     ]
    },
    {
     "name": "stderr",
     "output_type": "stream",
     "text": [
      "100%|██████████| 74/74 [00:00<00:00, 973.44it/s]\r\n"
     ]
    },
    {
     "name": "stdout",
     "output_type": "stream",
     "text": [
      "eval loss: 0.16129, accu: 0.9497927\r\n",
      "\t Best Acc: 0.949793\r\n",
      "\t step:400/662, average time: 0.0016, loss: 0.150768 Batch Acc:0.952148438, Acc:0.956692837\r\n"
     ]
    },
    {
     "name": "stderr",
     "output_type": "stream",
     "text": [
      "100%|██████████| 74/74 [00:00<00:00, 976.74it/s]\r\n"
     ]
    },
    {
     "name": "stdout",
     "output_type": "stream",
     "text": [
      "eval loss: 0.16095, accu: 0.9494073\r\n",
      "\t step:600/662, average time: 0.0017, loss: 0.150328 Batch Acc:0.957031250, Acc:0.957031250\r\n",
      "epoch: 3, Sun Apr 30 12:54:41 2023\r\n",
      "\t step:200/662, average time: 0.0014, loss: 0.128816 Batch Acc:0.961914062, Acc:0.956875777\r\n"
     ]
    },
    {
     "name": "stderr",
     "output_type": "stream",
     "text": [
      "100%|██████████| 74/74 [00:00<00:00, 981.35it/s]\r\n"
     ]
    },
    {
     "name": "stdout",
     "output_type": "stream",
     "text": [
      "eval loss: 0.15807, accu: 0.9505502\r\n",
      "\t Best Acc: 0.950550\r\n",
      "\t step:400/662, average time: 0.0016, loss: 0.145164 Batch Acc:0.953125000, Acc:0.958278543\r\n"
     ]
    },
    {
     "name": "stderr",
     "output_type": "stream",
     "text": [
      "100%|██████████| 74/74 [00:00<00:00, 954.05it/s]\r\n"
     ]
    },
    {
     "name": "stdout",
     "output_type": "stream",
     "text": [
      "eval loss: 0.15948, accu: 0.9497129\r\n",
      "\t step:600/662, average time: 0.0017, loss: 0.148432 Batch Acc:0.957031250, Acc:0.957031250\r\n",
      "epoch: 4, Sun Apr 30 12:54:43 2023\r\n",
      "\t step:200/662, average time: 0.0014, loss: 0.129772 Batch Acc:0.958984375, Acc:0.957274176\r\n"
     ]
    },
    {
     "name": "stderr",
     "output_type": "stream",
     "text": [
      "100%|██████████| 74/74 [00:00<00:00, 961.33it/s]\r\n"
     ]
    },
    {
     "name": "stdout",
     "output_type": "stream",
     "text": [
      "eval loss: 0.15761, accu: 0.9508425\r\n",
      "\t Best Acc: 0.950843\r\n",
      "\t step:400/662, average time: 0.0016, loss: 0.143604 Batch Acc:0.952148438, Acc:0.958587949\r\n"
     ]
    },
    {
     "name": "stderr",
     "output_type": "stream",
     "text": [
      "100%|██████████| 74/74 [00:00<00:00, 959.72it/s]\r\n"
     ]
    },
    {
     "name": "stdout",
     "output_type": "stream",
     "text": [
      "eval loss: 0.15906, accu: 0.9499787\r\n",
      "\t step:600/662, average time: 0.0017, loss: 0.147307 Batch Acc:0.956054688, Acc:0.956054688\r\n",
      "epoch: 5, Sun Apr 30 12:54:44 2023\r\n",
      "\t step:200/662, average time: 0.0014, loss: 0.130304 Batch Acc:0.959960938, Acc:0.957711443\r\n"
     ]
    },
    {
     "name": "stderr",
     "output_type": "stream",
     "text": [
      "100%|██████████| 74/74 [00:00<00:00, 951.13it/s]\r\n"
     ]
    },
    {
     "name": "stdout",
     "output_type": "stream",
     "text": [
      "eval loss: 0.15762, accu: 0.9509223\r\n",
      "\t Best Acc: 0.950922\r\n",
      "\t step:400/662, average time: 0.0016, loss: 0.143160 Batch Acc:0.954101562, Acc:0.958752321\r\n"
     ]
    },
    {
     "name": "stderr",
     "output_type": "stream",
     "text": [
      "100%|██████████| 74/74 [00:00<00:00, 949.52it/s]\r\n"
     ]
    },
    {
     "name": "stdout",
     "output_type": "stream",
     "text": [
      "eval loss: 0.15887, accu: 0.9500585\r\n",
      "\t step:600/662, average time: 0.0017, loss: 0.146709 Batch Acc:0.956054688, Acc:0.956054688\r\n",
      "Last Eval:\r\n"
     ]
    },
    {
     "name": "stderr",
     "output_type": "stream",
     "text": [
      "100%|██████████| 74/74 [00:00<00:00, 949.63it/s]\r\n"
     ]
    },
    {
     "name": "stdout",
     "output_type": "stream",
     "text": [
      "eval loss: 0.15820, accu: 0.9504970\r\n",
      "The training of liner has Finished!\r\n",
      "\r\n"
     ]
    }
   ],
   "source": [
    "liner_merge_model = main_train('liner')"
   ]
  },
  {
   "cell_type": "code",
   "execution_count": 17,
   "id": "4ff305ba-ea25-4e0a-9ff7-1c47ce78e655",
   "metadata": {
    "execution": {
     "iopub.execute_input": "2023-04-30T04:54:45.340286Z",
     "iopub.status.busy": "2023-04-30T04:54:45.339769Z",
     "iopub.status.idle": "2023-04-30T04:54:55.617462Z",
     "shell.execute_reply": "2023-04-30T04:54:55.616753Z",
     "shell.execute_reply.started": "2023-04-30T04:54:45.340259Z"
    },
    "scrolled": true,
    "tags": []
   },
   "outputs": [
    {
     "name": "stdout",
     "output_type": "stream",
     "text": [
      "The training process of ParameterMergedModel model is begining!\r\n",
      "epoch: 1, Sun Apr 30 12:54:45 2023\r\n",
      "\t step:200/662, average time: 0.0034, loss: 0.134554 Batch Acc:0.959960938, Acc:0.952984103\r\n"
     ]
    },
    {
     "name": "stderr",
     "output_type": "stream",
     "text": [
      "100%|██████████| 74/74 [00:00<00:00, 387.62it/s]\r\n"
     ]
    },
    {
     "name": "stdout",
     "output_type": "stream",
     "text": [
      "eval loss: 0.16161, accu: 0.9494073\r\n",
      "\t Best Acc: 0.949407\r\n",
      "\t step:400/662, average time: 0.0035, loss: 0.149114 Batch Acc:0.955078125, Acc:0.956257735\r\n"
     ]
    },
    {
     "name": "stderr",
     "output_type": "stream",
     "text": [
      "100%|██████████| 74/74 [00:00<00:00, 565.76it/s]\r\n"
     ]
    },
    {
     "name": "stdout",
     "output_type": "stream",
     "text": [
      "eval loss: 0.16128, accu: 0.9492080\r\n",
      "\t step:600/662, average time: 0.0034, loss: 0.148273 Batch Acc:0.958007812, Acc:0.958007812\r\n",
      "epoch: 2, Sun Apr 30 12:54:47 2023\r\n",
      "\t step:200/662, average time: 0.0025, loss: 0.131443 Batch Acc:0.962890625, Acc:0.956078980\r\n"
     ]
    },
    {
     "name": "stderr",
     "output_type": "stream",
     "text": [
      "100%|██████████| 74/74 [00:00<00:00, 557.34it/s]\r\n"
     ]
    },
    {
     "name": "stdout",
     "output_type": "stream",
     "text": [
      "eval loss: 0.16119, accu: 0.9490219\r\n",
      "\t step:400/662, average time: 0.0029, loss: 0.147784 Batch Acc:0.956054688, Acc:0.956596148\r\n"
     ]
    },
    {
     "name": "stderr",
     "output_type": "stream",
     "text": [
      "100%|██████████| 74/74 [00:00<00:00, 557.28it/s]\r\n"
     ]
    },
    {
     "name": "stdout",
     "output_type": "stream",
     "text": [
      "eval loss: 0.16116, accu: 0.9489820\r\n",
      "\t step:600/662, average time: 0.0030, loss: 0.148274 Batch Acc:0.959960938, Acc:0.959960938\r\n",
      "epoch: 3, Sun Apr 30 12:54:49 2023\r\n",
      "\t step:200/662, average time: 0.0025, loss: 0.130893 Batch Acc:0.959960938, Acc:0.956112990\r\n"
     ]
    },
    {
     "name": "stderr",
     "output_type": "stream",
     "text": [
      "100%|██████████| 74/74 [00:00<00:00, 570.28it/s]\r\n"
     ]
    },
    {
     "name": "stdout",
     "output_type": "stream",
     "text": [
      "eval loss: 0.16109, accu: 0.9489820\r\n",
      "\t step:400/662, average time: 0.0029, loss: 0.147576 Batch Acc:0.956054688, Acc:0.956741182\r\n"
     ]
    },
    {
     "name": "stderr",
     "output_type": "stream",
     "text": [
      "100%|██████████| 74/74 [00:00<00:00, 562.43it/s]\r\n"
     ]
    },
    {
     "name": "stdout",
     "output_type": "stream",
     "text": [
      "eval loss: 0.16109, accu: 0.9489820\r\n",
      "\t step:600/662, average time: 0.0030, loss: 0.148204 Batch Acc:0.958984375, Acc:0.958984375\r\n",
      "epoch: 4, Sun Apr 30 12:54:51 2023\r\n",
      "\t step:200/662, average time: 0.0025, loss: 0.130693 Batch Acc:0.960937500, Acc:0.956108131\r\n"
     ]
    },
    {
     "name": "stderr",
     "output_type": "stream",
     "text": [
      "100%|██████████| 74/74 [00:00<00:00, 568.11it/s]\r\n"
     ]
    },
    {
     "name": "stdout",
     "output_type": "stream",
     "text": [
      "eval loss: 0.16102, accu: 0.9489820\r\n",
      "\t step:400/662, average time: 0.0029, loss: 0.147443 Batch Acc:0.956054688, Acc:0.956779858\r\n"
     ]
    },
    {
     "name": "stderr",
     "output_type": "stream",
     "text": [
      "100%|██████████| 74/74 [00:00<00:00, 568.30it/s]\r\n"
     ]
    },
    {
     "name": "stdout",
     "output_type": "stream",
     "text": [
      "eval loss: 0.16103, accu: 0.9489687\r\n",
      "\t step:600/662, average time: 0.0030, loss: 0.148059 Batch Acc:0.958984375, Acc:0.958984375\r\n",
      "epoch: 5, Sun Apr 30 12:54:53 2023\r\n",
      "\t step:200/662, average time: 0.0025, loss: 0.130602 Batch Acc:0.960937500, Acc:0.956181009\r\n"
     ]
    },
    {
     "name": "stderr",
     "output_type": "stream",
     "text": [
      "100%|██████████| 74/74 [00:00<00:00, 562.72it/s]\r\n"
     ]
    },
    {
     "name": "stdout",
     "output_type": "stream",
     "text": [
      "eval loss: 0.16096, accu: 0.9490086\r\n",
      "\t step:400/662, average time: 0.0029, loss: 0.147347 Batch Acc:0.956054688, Acc:0.956818533\r\n"
     ]
    },
    {
     "name": "stderr",
     "output_type": "stream",
     "text": [
      "100%|██████████| 74/74 [00:00<00:00, 574.02it/s]\r\n"
     ]
    },
    {
     "name": "stdout",
     "output_type": "stream",
     "text": [
      "eval loss: 0.16098, accu: 0.9489820\r\n",
      "\t step:600/662, average time: 0.0030, loss: 0.147930 Batch Acc:0.958984375, Acc:0.958984375\r\n",
      "Last Eval:\r\n"
     ]
    },
    {
     "name": "stderr",
     "output_type": "stream",
     "text": [
      "100%|██████████| 74/74 [00:00<00:00, 555.54it/s]\r\n"
     ]
    },
    {
     "name": "stdout",
     "output_type": "stream",
     "text": [
      "eval loss: 0.16098, accu: 0.9489820\r\n",
      "The training of ParameterMergedModel has Finished!\r\n",
      "\r\n"
     ]
    }
   ],
   "source": [
    "parameter_merge_model = main_train('ParameterMergedModel')"
   ]
  },
  {
   "cell_type": "code",
   "execution_count": 21,
   "id": "928ff169-d45b-4928-be8e-11d426715a7e",
   "metadata": {
    "execution": {
     "iopub.execute_input": "2023-04-30T05:00:09.622764Z",
     "iopub.status.busy": "2023-04-30T05:00:09.621684Z",
     "iopub.status.idle": "2023-04-30T05:00:09.627555Z",
     "shell.execute_reply": "2023-04-30T05:00:09.626953Z",
     "shell.execute_reply.started": "2023-04-30T05:00:09.622719Z"
    },
    "scrolled": true,
    "tags": []
   },
   "outputs": [
    {
     "data": {
      "text/plain": [
       "Tensor(shape=[4], dtype=float64, place=Place(gpu:0), stop_gradient=False,\n",
       "       [0.78959070, 0.05195850, 0.00508714, 0.15336366])"
      ]
     },
     "execution_count": 21,
     "metadata": {},
     "output_type": "execute_result"
    }
   ],
   "source": [
    "F.softmax(parameter_merge_model.weights)"
   ]
  },
  {
   "cell_type": "code",
   "execution_count": 22,
   "id": "7a4405c6-f9f5-449e-8ce8-679455df4dad",
   "metadata": {
    "execution": {
     "iopub.execute_input": "2023-04-30T05:00:26.433352Z",
     "iopub.status.busy": "2023-04-30T05:00:26.432741Z",
     "iopub.status.idle": "2023-04-30T05:00:26.442852Z",
     "shell.execute_reply": "2023-04-30T05:00:26.442096Z",
     "shell.execute_reply.started": "2023-04-30T05:00:26.433309Z"
    },
    "scrolled": true,
    "tags": []
   },
   "outputs": [
    {
     "data": {
      "text/plain": [
       "Parameter containing:\n",
       "Tensor(shape=[56, 14], dtype=float32, place=Place(gpu:0), stop_gradient=False,\n",
       "       [[ 0.59488767,  0.03648676, -0.06393395, -0.14288300, -0.33817297,\n",
       "         -0.27167651, -0.18004082, -0.16317739, -0.11895706, -0.14798854,\n",
       "         -0.35454124,  0.21112874, -0.11768337, -0.36149958],\n",
       "        [ 0.11847109,  0.49146467, -0.04506579, -0.00288577, -0.37033501,\n",
       "         -0.07243355, -0.49628955, -0.16152610, -0.12444752, -0.07666799,\n",
       "          0.03943317,  0.08501796, -0.22640923, -0.53965122],\n",
       "        [-0.03175763, -0.02949208,  0.64564723, -0.24506234, -0.36744472,\n",
       "         -0.15144211, -0.22354050, -0.35534158, -0.48441312, -0.32396862,\n",
       "         -0.44995800, -0.41254640, -0.29896140, -0.30043277],\n",
       "        [-0.23840371,  0.06942926, -0.39213532,  0.47911954, -0.45395631,\n",
       "         -0.40394390, -0.63441437, -0.52534240, -0.44868895, -0.43480897,\n",
       "         -0.43540955, -0.26575932, -0.65916765, -0.49560958],\n",
       "        [-0.00624943, -0.30467880, -0.04648293, -0.15803492,  0.78915823,\n",
       "         -0.00585351, -0.18996283, -0.22809215,  0.07598659, -0.25290582,\n",
       "         -0.24189143,  0.05969617, -0.16115338, -0.24442032],\n",
       "        [-0.15833126,  0.09766498, -0.06561588, -0.19063611, -0.17488207,\n",
       "          0.77208740, -0.23560168, -0.29328975, -0.09759674, -0.18554570,\n",
       "         -0.03256663, -0.04954068, -0.27867058, -0.06689603],\n",
       "        [-0.30658227, -0.04696614, -0.47264373, -0.40205929, -0.57009107,\n",
       "         -0.34539905,  0.29508689, -0.42064434, -0.51963300, -0.41250774,\n",
       "         -0.20243488, -0.43912268, -0.55779469, -0.43278608],\n",
       "        [-0.01700129,  0.03592969, -0.00888387, -0.17974539, -0.12747015,\n",
       "         -0.12028496, -0.14002670,  0.78905576, -0.24469064, -0.17408565,\n",
       "         -0.22455302,  0.03935612, -0.25292966, -0.18959168],\n",
       "        [ 0.00474305,  0.31741139,  0.00638765, -0.08141752, -0.07423767,\n",
       "          0.00713019, -0.14265069, -0.07326457,  0.79242605,  0.02160559,\n",
       "         -0.09030201,  0.14009789, -0.00013177,  0.04980558],\n",
       "        [-0.20124799,  0.01843481, -0.50998694, -0.34686336, -0.47039154,\n",
       "         -0.35835746, -0.48986810, -0.42493403, -0.00355911,  0.52657473,\n",
       "         -0.46313632,  0.04227234, -0.34876269, -0.36896592],\n",
       "        [-0.10969752, -0.13151994, -0.24578412, -0.23389310, -0.38773215,\n",
       "         -0.23810303, -0.21400689, -0.35128778, -0.17181194, -0.21698754,\n",
       "          0.43847278, -0.07219120, -0.50499135, -0.23874204],\n",
       "        [ 0.24040227,  0.05086937, -0.54950333, -0.29126790, -0.03229957,\n",
       "          0.12338902, -0.04440460, -0.23676406,  0.14747678, -0.26144740,\n",
       "         -0.01715210,  0.77462488,  0.07343060, -0.31339738],\n",
       "        [-0.01393120,  0.25680158, -0.06277153, -0.09952085, -0.11406748,\n",
       "         -0.20193891, -0.08922358,  0.00718979, -0.01787593,  0.05116689,\n",
       "         -0.23697229, -0.04102773,  1.00034034,  0.00372941],\n",
       "        [-0.30368885, -0.08274335, -0.40745571, -0.19635046, -0.31965470,\n",
       "         -0.22373819, -0.49794832, -0.51001471, -0.22668324, -0.43857560,\n",
       "         -0.29150322, -0.30305791, -0.25443563,  0.52481019],\n",
       "        [ 0.15035681,  0.12695655,  0.15608996,  0.16340326,  0.14709926,\n",
       "          0.13718069,  0.00807039,  0.03511744,  0.16372384,  0.15031734,\n",
       "          0.21041428,  0.05650552, -0.07669471,  0.08901160],\n",
       "        [ 0.04312263,  0.55671722, -0.16498332, -0.22648269, -0.10766373,\n",
       "         -0.33283630, -0.14896539,  0.05656853, -0.32521954, -0.19402410,\n",
       "          0.00927813, -0.24185702, -0.21931665, -0.13732898],\n",
       "        [-0.10195260,  0.12435858, -0.00623193, -0.08858284, -0.13900509,\n",
       "         -0.23651452, -0.24315172, -0.11358374,  0.08640608, -0.16792160,\n",
       "         -0.10392627, -0.00812232, -0.12763934,  0.05809913],\n",
       "        [ 0.27631658,  0.01705332,  0.22453101,  0.22664005,  0.11367659,\n",
       "          0.21463236,  0.04735006,  0.14115062,  0.28368413,  0.30431896,\n",
       "         -0.04455506,  0.27818632,  0.29610667,  0.14396580],\n",
       "        [ 0.16437092,  0.17832030,  0.07790132,  0.01556620,  0.09794605,\n",
       "          0.07272775, -0.00994762,  0.06512532,  0.06665633,  0.08094708,\n",
       "         -0.08477739,  0.11367987,  0.09155077, -0.10172690],\n",
       "        [ 0.14417452, -0.10662182, -0.00509430,  0.08770928, -0.04363574,\n",
       "          0.06620808, -0.10979380,  0.06448103, -0.14772762,  0.10066591,\n",
       "          0.01722130, -0.08150755, -0.09817184, -0.03347984],\n",
       "        [ 0.00523393,  0.03716428, -0.10693373, -0.03417465, -0.02262465,\n",
       "         -0.12834065, -0.10509886,  0.01903634, -0.00391744,  0.03763092,\n",
       "         -0.24698080,  0.18289520, -0.07393429, -0.16795968],\n",
       "        [-0.04355285, -0.10257994,  0.02242728, -0.04738801, -0.04090530,\n",
       "         -0.03467475, -0.11224858,  0.00569595, -0.07089736,  0.02609370,\n",
       "         -0.09233183, -0.19544140,  0.04681028, -0.05809702],\n",
       "        [ 0.07288883,  0.20666467, -0.11767377,  0.20927849, -0.03405635,\n",
       "         -0.26790914, -0.14875266,  0.05576696,  0.12122461, -0.07510193,\n",
       "          0.08012957, -0.28138882,  0.07769716, -0.06097640],\n",
       "        [ 0.14747824,  0.42090204,  0.17735071,  0.12263194,  0.19029535,\n",
       "          0.09835805,  0.02958362,  0.07485324,  0.17572375,  0.18963002,\n",
       "          0.05745402, -0.25054055,  0.11644378,  0.15950954],\n",
       "        [ 0.03469115,  0.08116297,  0.07399528, -0.01970748, -0.10612458,\n",
       "         -0.02561719, -0.20076860, -0.10490951,  0.24854589,  0.11173321,\n",
       "          0.06583927, -0.18663660, -0.01512467, -0.06887650],\n",
       "        [-0.35912097,  0.01028934, -0.03456306, -0.22110611, -0.12414936,\n",
       "         -0.24047834, -0.18271185, -0.28490442, -0.05592490, -0.02095682,\n",
       "         -0.49468729,  0.22536531, -0.26158372, -0.18831515],\n",
       "        [-0.18950786, -0.00174519,  0.11067615,  0.07555724,  0.04263908,\n",
       "         -0.06460653,  0.01282103,  0.04192523,  0.20599857,  0.14075552,\n",
       "         -0.01125125, -0.06753760, -0.02384474,  0.06040249],\n",
       "        [ 0.05877357,  0.19262724, -0.00543678, -0.05285369, -0.10942116,\n",
       "         -0.06800096, -0.05593573,  0.08877184,  0.02823456,  0.10926200,\n",
       "         -0.22236980,  0.19538866,  0.10786431,  0.09100851],\n",
       "        [-0.00327063, -0.29251093,  0.09446881,  0.07777964,  0.15240180,\n",
       "         -0.02868483,  0.00123623,  0.26878804,  0.30486110,  0.20559147,\n",
       "          0.04631082, -0.21962856,  0.20863356, -0.02113730],\n",
       "        [-0.01953685,  0.01887625,  0.08533949,  0.05038410,  0.12606874,\n",
       "         -0.12066690,  0.03555179,  0.04176968, -0.04136226,  0.13762118,\n",
       "         -0.05235112,  0.07144652, -0.15959379, -0.00571852],\n",
       "        [-0.19523065,  0.11328311, -0.47210926, -0.10601279, -0.07212014,\n",
       "         -0.15087830, -0.12273188,  0.20698716,  0.04542705, -0.10372079,\n",
       "          0.00993810,  0.09056729, -0.00691898, -0.02877215],\n",
       "        [ 0.04004596, -0.06774639,  0.10834359, -0.11827867, -0.00085370,\n",
       "          0.05869694,  0.07052387,  0.06373814, -0.19726741,  0.11398815,\n",
       "          0.13855553,  0.37896839,  0.05934076, -0.07204532],\n",
       "        [ 0.20257449,  0.12076047,  0.10391481,  0.14158298, -0.14837611,\n",
       "         -0.13519539, -0.02224847,  0.14679193, -0.09112232,  0.19484496,\n",
       "          0.08887918,  0.11946633,  0.01216416, -0.05750689],\n",
       "        [-0.05758897,  0.18872349,  0.02408574,  0.14687011,  0.07980143,\n",
       "         -0.18795744, -0.05212645,  0.20449609, -0.00084664,  0.01857918,\n",
       "         -0.17563318, -0.03425958,  0.09927911, -0.04261592],\n",
       "        [-0.06729022, -0.02087630, -0.02175934, -0.08631044, -0.00335302,\n",
       "         -0.18941532, -0.20537004,  0.06856588,  0.18515968, -0.00703632,\n",
       "         -0.10780735,  0.43370152, -0.04410940,  0.03103221],\n",
       "        [-0.00253399, -0.04064583, -0.06320657, -0.08481939,  0.12565516,\n",
       "         -0.02809914, -0.06866499, -0.19563706,  0.18213204,  0.11103610,\n",
       "         -0.05774191,  0.20051716, -0.05974270, -0.16346833],\n",
       "        [-0.23203285, -0.10642415,  0.16403440, -0.17742635, -0.14959469,\n",
       "          0.00611558,  0.04163256, -0.08779807, -0.22555599, -0.04432287,\n",
       "         -0.02190046, -0.02594611,  0.05500940, -0.04214003],\n",
       "        [ 0.10187075,  0.10680770,  0.17750862,  0.07736349,  0.01961343,\n",
       "          0.05646481,  0.01290845,  0.17420052,  0.00507858, -0.11347320,\n",
       "          0.01612568,  0.11462191,  0.20670795,  0.15762018],\n",
       "        [ 0.08071093,  0.41301268, -0.01150835,  0.07066295,  0.17057675,\n",
       "          0.12001245, -0.04767895,  0.21924122,  0.11475141,  0.04074588,\n",
       "         -0.00900398, -0.05782116, -0.02217692,  0.02970207],\n",
       "        [-0.47187006, -0.16827257, -0.16179150, -0.11424640, -0.42193654,\n",
       "          0.16513297, -0.27313620, -0.02894375, -0.07929397, -0.38267177,\n",
       "         -0.29274020,  0.33679688, -0.24239351,  0.04765303],\n",
       "        [ 0.10402851,  0.09472104, -0.06297781, -0.05316556,  0.01440875,\n",
       "         -0.06046226, -0.09790636, -0.12407766, -0.27274585,  0.06426602,\n",
       "         -0.08042539, -0.22588246, -0.21698235, -0.08127858],\n",
       "        [ 0.17461719,  0.12206278,  0.10256016,  0.14037421,  0.11583099,\n",
       "          0.15805839,  0.10783488,  0.29949412,  0.21926558,  0.07481196,\n",
       "          0.16718905,  0.59546012,  0.06599263, -0.06378679],\n",
       "        [ 0.10178681, -0.09373309,  0.02115214, -0.14429201, -0.07957315,\n",
       "          0.03759279, -0.10695207,  0.00850183, -0.36720851, -0.17159371,\n",
       "         -0.11308599, -0.13316822, -0.15214597, -0.18482801],\n",
       "        [-0.05065077,  0.27277276,  0.07546931, -0.04268645, -0.00258991,\n",
       "          0.07877744, -0.00442467, -0.22697431, -0.05905716, -0.02325661,\n",
       "          0.00110913,  0.07937789,  0.09162646, -0.02104736],\n",
       "        [-0.27251169, -0.12408572,  0.29055819, -0.14298296,  0.06939403,\n",
       "         -0.10203484, -0.19617935, -0.06671565, -0.08663883, -0.13756534,\n",
       "         -0.17857656,  0.06853119, -0.27170610, -0.30656815],\n",
       "        [-0.04391982,  0.05720818,  0.22608146,  0.23471665, -0.00130143,\n",
       "          0.03207268, -0.14542207,  0.21963313,  0.02696471,  0.09076224,\n",
       "         -0.17255855,  0.08092885,  0.21336073, -0.14312179],\n",
       "        [-0.19935031, -0.10125083, -0.04378092, -0.04256830,  0.10555448,\n",
       "          0.00077863, -0.09008977, -0.04492167, -0.13917933, -0.11201689,\n",
       "          0.03542531,  0.06316223,  0.04765827, -0.06088007],\n",
       "        [-0.07049551, -0.17766459,  0.00658524, -0.13739388, -0.10711884,\n",
       "          0.21165331, -0.17650598, -0.05264602, -0.03915371, -0.15286060,\n",
       "         -0.19129081,  0.17034027,  0.16345562, -0.15505926],\n",
       "        [-0.22624648, -0.12664112,  0.15131350, -0.12606367, -0.04842911,\n",
       "         -0.07659735,  0.04305410, -0.18886356, -0.11523190, -0.15504630,\n",
       "         -0.26930013, -0.36756393, -0.10639963, -0.20691483],\n",
       "        [-0.09378517,  0.04190860,  0.07064049,  0.02851128, -0.07442088,\n",
       "          0.13462940, -0.13485856,  0.30081877,  0.16372918,  0.03407529,\n",
       "         -0.05715094, -0.06550492,  0.10973140, -0.07955856],\n",
       "        [-0.04174779, -0.10462409,  0.03292273, -0.20614919, -0.00924864,\n",
       "         -0.10683784, -0.12069018,  0.00104499,  0.34026685,  0.01391261,\n",
       "         -0.23771180,  0.01009895,  0.02607222, -0.17412473],\n",
       "        [-0.11586168, -0.34146821,  0.15613690,  0.07992817,  0.11968819,\n",
       "          0.08215306, -0.01441347,  0.11616281, -0.06818162,  0.32364455,\n",
       "          0.03487007,  0.04984439,  0.02672451, -0.08828852],\n",
       "        [-0.23785594,  0.13598219,  0.02035106, -0.07133559, -0.07799304,\n",
       "         -0.22905706, -0.27986166, -0.05953839,  0.00403976, -0.13258325,\n",
       "          0.06370495, -0.18850890,  0.10053754, -0.33172005],\n",
       "        [-0.21958323, -0.15809059,  0.23390062,  0.00631400, -0.08996470,\n",
       "         -0.02940271, -0.13388689, -0.06812471, -0.22015379, -0.04124577,\n",
       "         -0.27468726,  0.24981876, -0.09951980, -0.15111975],\n",
       "        [-0.01005552, -0.01222764,  0.15209922,  0.06504193,  0.06583857,\n",
       "          0.10427296, -0.16120359,  0.12199549,  0.02826588, -0.00010976,\n",
       "         -0.16591489,  0.42625368,  0.36090922, -0.06544185],\n",
       "        [-0.08460476, -0.00860527,  0.33592314, -0.05350388,  0.09655471,\n",
       "         -0.02084247, -0.06498243,  0.10150145, -0.03967525,  0.17270125,\n",
       "          0.00002341,  0.23458029, -0.15788208,  0.14685374]])"
      ]
     },
     "execution_count": 22,
     "metadata": {},
     "output_type": "execute_result"
    }
   ],
   "source": [
    "liner_merge_model.linear_1.weight"
   ]
  }
 ],
 "metadata": {
  "kernelspec": {
   "display_name": "Python 3",
   "language": "python",
   "name": "py35-paddle1.2.0"
  },
  "language_info": {
   "codemirror_mode": {
    "name": "ipython",
    "version": 3
   },
   "file_extension": ".py",
   "mimetype": "text/x-python",
   "name": "python",
   "nbconvert_exporter": "python",
   "pygments_lexer": "ipython3",
   "version": "3.9.16"
  }
 },
 "nbformat": 4,
 "nbformat_minor": 5
}
